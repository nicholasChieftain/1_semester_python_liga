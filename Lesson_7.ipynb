{
 "cells": [
  {
   "cell_type": "markdown",
   "metadata": {},
   "source": [
    "**Занятие 7**<br>Работа со строками. Методы"
   ]
  },
  {
   "cell_type": "markdown",
   "metadata": {},
   "source": [
    "**Подсчёт букв**"
   ]
  },
  {
   "cell_type": "markdown",
   "metadata": {},
   "source": [
    "<img src=\"img/Lesson_7/1.png\" width=\"600\">"
   ]
  },
  {
   "cell_type": "markdown",
   "metadata": {},
   "source": [
    "**Вызов буквы из слова**"
   ]
  },
  {
   "cell_type": "markdown",
   "metadata": {},
   "source": [
    "<img src=\"img/Lesson_7/2.png\" width=\"600\">"
   ]
  },
  {
   "cell_type": "code",
   "execution_count": null,
   "metadata": {},
   "outputs": [],
   "source": [
    "#Вызов буквы из слова\n",
    "x = 'математика'\n",
    "y = x[4]\n",
    "print(y)"
   ]
  },
  {
   "cell_type": "markdown",
   "metadata": {},
   "source": [
    "**Вызов нескольких букв из слова**"
   ]
  },
  {
   "cell_type": "markdown",
   "metadata": {},
   "source": [
    "<img src=\"img/Lesson_7/3.png\" width=\"600\">"
   ]
  },
  {
   "cell_type": "code",
   "execution_count": null,
   "metadata": {},
   "outputs": [],
   "source": [
    "#Вызов нескольких букв из слова\n",
    "x = 'математика'\n",
    "print(x[2:6])\n",
    "print(x[:6])\n",
    "print(x[2:])\n",
    "print(x[:])"
   ]
  },
  {
   "cell_type": "markdown",
   "metadata": {},
   "source": [
    "**Самостоятельная задача 1**<br>Напишите код, чтобы программа писала слово ‘тик’ из слова ‘математика’"
   ]
  },
  {
   "cell_type": "code",
   "execution_count": null,
   "metadata": {},
   "outputs": [],
   "source": [
    "#Самостоятельная задача 1"
   ]
  },
  {
   "cell_type": "markdown",
   "metadata": {},
   "source": [
    "**Шаг среза**"
   ]
  },
  {
   "cell_type": "markdown",
   "metadata": {},
   "source": [
    "<img src=\"img/Lesson_7/4.png\" width=\"300\">"
   ]
  },
  {
   "cell_type": "code",
   "execution_count": null,
   "metadata": {},
   "outputs": [],
   "source": [
    "#шаг среза\n",
    "z = 'математика'\n",
    "x = z[0:10:2]\n",
    "print(x)"
   ]
  },
  {
   "cell_type": "markdown",
   "metadata": {},
   "source": [
    "**Задача 1**<br>Напишите программу, которая просит ввести вас текст, после чего выводит последнюю букву введенного вами текста. Так же выведите этот текст наоборот."
   ]
  },
  {
   "cell_type": "code",
   "execution_count": null,
   "metadata": {},
   "outputs": [],
   "source": [
    "#Задача 1\n",
    "x = input('Введите текст')\n",
    "y = x[-1:]\n",
    "y1 = x[::-1]\n",
    "print(y)\n",
    "print(y1)"
   ]
  },
  {
   "cell_type": "markdown",
   "metadata": {},
   "source": [
    "**Задча 2**<br>Напишите программу, которая просит вас ввести слово, после чего выводит количество букв в веденном слове."
   ]
  },
  {
   "cell_type": "code",
   "execution_count": null,
   "metadata": {},
   "outputs": [],
   "source": [
    "#Задача 2\n",
    "x = input('Введите слово')\n",
    "y = len(x)\n",
    "print(y)"
   ]
  },
  {
   "cell_type": "markdown",
   "metadata": {},
   "source": [
    "**Самостоятельная задача 2**<br>Напишите программу, которая просит вас ввести имя и фамилию, после чего выводит сумму из символов имени и символов фамилии"
   ]
  },
  {
   "cell_type": "code",
   "execution_count": null,
   "metadata": {},
   "outputs": [],
   "source": [
    "#Самостоятельная задача 2"
   ]
  },
  {
   "cell_type": "markdown",
   "metadata": {},
   "source": [
    "**Метод .upper()**"
   ]
  },
  {
   "cell_type": "markdown",
   "metadata": {},
   "source": [
    "<img src=\"img/Lesson_7/up.png\" width=\"800\">"
   ]
  },
  {
   "cell_type": "code",
   "execution_count": null,
   "metadata": {},
   "outputs": [],
   "source": [
    "#upper()\n",
    "x = 'программирование требует практики'\n",
    "print(type(x))\n",
    "y = x.upper()\n",
    "print(x)\n",
    "print(y)"
   ]
  },
  {
   "cell_type": "markdown",
   "metadata": {},
   "source": [
    "**Метод replace()**"
   ]
  },
  {
   "cell_type": "markdown",
   "metadata": {},
   "source": [
    "<img src=\"img/Lesson_7/replace.png\" width=\"800\">"
   ]
  },
  {
   "cell_type": "code",
   "execution_count": null,
   "metadata": {},
   "outputs": [],
   "source": [
    "#replace()\n",
    "x = 'это вкусный хлеб'\n",
    "y = x.replace('хлеб','сыр')\n",
    "print(y)\n",
    "print(x)"
   ]
  },
  {
   "cell_type": "markdown",
   "metadata": {},
   "source": [
    "**Самостоятельная задача 3**<br>В тексте ‘близкое расстояние между вами и котом может быть опасным’ заменить слово  ‘котом’ на слово ‘тигром’, сделать все буквы заглавными и вывести этот текст."
   ]
  },
  {
   "cell_type": "code",
   "execution_count": null,
   "metadata": {},
   "outputs": [],
   "source": [
    "#Самостоятельная задача 3\n",
    "x = 'близкое расстояние между вами и котом может быть опасным'\n"
   ]
  },
  {
   "cell_type": "markdown",
   "metadata": {},
   "source": [
    "**Задача 3**<br>Напишите программу, которая просит вас ввести ваше имя и возраст, после чего она вас приветствует и выводит ваш возраст."
   ]
  },
  {
   "cell_type": "code",
   "execution_count": null,
   "metadata": {},
   "outputs": [],
   "source": [
    "#Задача 3\n",
    "name = input('Введите ваше имя')\n",
    "age = input('Введите ваш возраст')\n",
    "print(f'Привет, {name}. Твой возраст составляет {age}')"
   ]
  },
  {
   "cell_type": "code",
   "execution_count": null,
   "metadata": {},
   "outputs": [],
   "source": [
    "#Задача 3 без f-строки\n",
    "name = input('Введите ваше имя')\n",
    "age = input('Введите ваш возраст')\n",
    "print('Привет, {name}. Твой возраст составляет {age}')"
   ]
  },
  {
   "cell_type": "markdown",
   "metadata": {},
   "source": [
    "**Самостоятельная задача 4**<br>Напишите программу, используя f-строки, которая спрашивает ваше имя и размер вашей обуви. Если размер обуви больше 47, тогда выведите следующее сообщение:’Ого,{введённое имя}, да ты великан ’, иначе выведите: ’Идеальный размер, {введённое имя}’"
   ]
  },
  {
   "cell_type": "code",
   "execution_count": null,
   "metadata": {},
   "outputs": [],
   "source": [
    "#Самостоятельная задача 4"
   ]
  },
  {
   "cell_type": "markdown",
   "metadata": {},
   "source": [
    "**Самостоятельная задача 5**<br>Напишите программу, которая все букву введенного вами текста делает заглавными."
   ]
  },
  {
   "cell_type": "code",
   "execution_count": null,
   "metadata": {},
   "outputs": [],
   "source": [
    "#Самостоятельная задача 5"
   ]
  },
  {
   "cell_type": "markdown",
   "metadata": {},
   "source": [
    "**Самостоятельная задача 6**<br>Напишите программу, которая переворачивает введенный вами текст и повторяет его два раза."
   ]
  },
  {
   "cell_type": "code",
   "execution_count": null,
   "metadata": {},
   "outputs": [],
   "source": [
    "#Самостоятельная задача 6"
   ]
  },
  {
   "cell_type": "markdown",
   "metadata": {},
   "source": [
    "**Самостоятельная задача 7**<br>Напишите программу, которая выдает число символов, в веденном вами тексте. Пробелы программа не должна учитывать."
   ]
  },
  {
   "cell_type": "code",
   "execution_count": null,
   "metadata": {},
   "outputs": [],
   "source": [
    "#Самостоятельная задача 7"
   ]
  }
 ],
 "metadata": {
  "kernelspec": {
   "display_name": "Python 3",
   "language": "python",
   "name": "python3"
  },
  "language_info": {
   "codemirror_mode": {
    "name": "ipython",
    "version": 3
   },
   "file_extension": ".py",
   "mimetype": "text/x-python",
   "name": "python",
   "nbconvert_exporter": "python",
   "pygments_lexer": "ipython3",
   "version": "3.7.3"
  },
  "pycharm": {
   "stem_cell": {
    "cell_type": "raw",
    "source": [],
    "metadata": {
     "collapsed": false
    }
   }
  }
 },
 "nbformat": 4,
 "nbformat_minor": 2
}