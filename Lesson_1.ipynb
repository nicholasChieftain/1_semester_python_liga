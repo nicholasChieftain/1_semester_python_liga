{
 "cells": [
  {
   "cell_type": "markdown",
   "metadata": {},
   "source": [
    "**Задача 1**<br>У Сергея имеется 5 черепашек и 5 клеток, для черепашки очень важно сидеть в клетке, в которой их купили, однако Сергей не различает эти клетки, поэтому он их покрасил. Проблема в том, что Сергей постоянно забывает какая клетка для какой черепашки. Давайте напишем программу для Сергея, чтобы он всегда знал в какую клетку, какую черепашку садить."
   ]
  },
  {
   "cell_type": "markdown",
   "metadata": {},
   "source": [
    "**Данные по задаче представлены в таблицах**"
   ]
  },
  {
   "cell_type": "markdown",
   "metadata": {},
   "source": [
    "|Черепашка|Какая клетка|\n",
    "|------|------|\n",
    "| Черепашка 1 |Клетка 3|\n",
    "| Черепашка 2 |Клетка 1|\n",
    "| Черепашка 3 |Клетка 5|\n",
    "| Черепашка 4 |Клетка 4|\n",
    "| Черепашка 5 |Клетка 2|"
   ]
  },
  {
   "cell_type": "markdown",
   "metadata": {},
   "source": [
    "|Клетка|Какой у клетки цвет|\n",
    "|------|------|\n",
    "|Клетка 1|Красный|\n",
    "|Клетка 2|Желтый|\n",
    "|Клетка 3|Черный|\n",
    "|Клетка 4|Синий|\n",
    "|Клетка 5|Зеленый|"
   ]
  },
  {
   "cell_type": "markdown",
   "metadata": {},
   "source": [
    "**Визуализация данных**<br>Давайте объединим данные из таблицы в рисунок, для лучшего понимания задачи"
   ]
  },
  {
   "cell_type": "markdown",
   "metadata": {},
   "source": [
    "<img src=\"img/Lesson_1/1.png\" width=\"600\">"
   ]
  },
  {
   "cell_type": "markdown",
   "metadata": {},
   "source": [
    "**Переменная**"
   ]
  },
  {
   "cell_type": "markdown",
   "metadata": {},
   "source": [
    "<img src=\"img/Lesson_1/5.png\" width=\"600\">"
   ]
  },
  {
   "cell_type": "markdown",
   "metadata": {},
   "source": [
    "**Связь между нашей задачей и переменными**"
   ]
  },
  {
   "cell_type": "markdown",
   "metadata": {},
   "source": [
    "<img src=\"img/Lesson_1/2.png\" width=\"600\">"
   ]
  },
  {
   "cell_type": "code",
   "execution_count": null,
   "metadata": {},
   "outputs": [],
   "source": [
    "#Код к задаче 1(строка комментария, здесь не нужно писать)\n",
    "Черная_клетка = 'Черепашка 1'\n",
    "Красная_клетка = 'Черепашка 2'\n",
    "Зеленая_клетка = 'Черепашка 3'\n",
    "Желтая_клетка = 'Черепашка 4'\n",
    "Синяя_клетка = 'Черепашка 5'"
   ]
  },
  {
   "cell_type": "markdown",
   "metadata": {},
   "source": [
    "**Принцип работы функции**"
   ]
  },
  {
   "cell_type": "markdown",
   "metadata": {},
   "source": [
    "<img src=\"img/Lesson_1/3.gif\" width=\"600\">"
   ]
  },
  {
   "cell_type": "code",
   "execution_count": null,
   "metadata": {},
   "outputs": [],
   "source": [
    "#функция print()\n",
    "print('Машина')\n",
    "print(3+6)\n",
    "print('3+6')"
   ]
  },
  {
   "cell_type": "markdown",
   "metadata": {},
   "source": [
    "**Самостоятельная задача 1** <br>\n",
    "А как вы думаете, что будет, если положить в нашу функцию переменную? Давайте это выясним. Но учтите один важный момент, наша переменная, это не текст, поэтому нам не нужно использовать <font size=\"5\">' '</font>"
   ]
  },
  {
   "cell_type": "code",
   "execution_count": null,
   "metadata": {},
   "outputs": [],
   "source": [
    "#Самостоятельная задача 1(строка комментария, здесь не нужно писать)\n"
   ]
  },
  {
   "cell_type": "markdown",
   "metadata": {},
   "source": [
    "**Функция input()**"
   ]
  },
  {
   "cell_type": "markdown",
   "metadata": {},
   "source": [
    "<img src=\"img/Lesson_1/4.png\" width=\"600\">"
   ]
  },
  {
   "cell_type": "code",
   "execution_count": null,
   "metadata": {},
   "outputs": [],
   "source": [
    "#Функция input()\n",
    "x = input()\n",
    "print(x)"
   ]
  },
  {
   "cell_type": "code",
   "execution_count": null,
   "metadata": {},
   "outputs": [],
   "source": [
    "#информативный input()\n",
    "x = input(‘Введите что-нибудь’)\n",
    "print(x)"
   ]
  },
  {
   "cell_type": "markdown",
   "metadata": {},
   "source": [
    "**Задача 2**<br>\n",
    "Как мы помним, у Сергея плохая память, значит он постоянно забывает, сколько корма ему нужно покупать в магазине, чтобы накормить всех черепашек. Так же это обстоятельство усложняется тем, что, когда черепашки растут, им нужно больше корма, а у Сергея есть проблемы с математикой, так что он может ошибиться. Давайте попробуем написать программу для подсчета необходимого количества корма для всех черепашек."
   ]
  },
  {
   "cell_type": "markdown",
   "metadata": {},
   "source": [
    "**Данные задачи**"
   ]
  },
  {
   "cell_type": "markdown",
   "metadata": {},
   "source": [
    "|Черепашка|Сколько нужно корма|\n",
    "|------|------|\n",
    "| Черепашка 1 |400 грамм корма|\n",
    "| Черепашка 2 |470 грамм корма|\n",
    "| Черепашка 3 |390 грамм корма|\n",
    "| Черепашка 4 |130 грамм корма|\n",
    "| Черепашка 5 |431 грамм корма|"
   ]
  },
  {
   "cell_type": "code",
   "execution_count": null,
   "metadata": {},
   "outputs": [],
   "source": [
    "#задача 2\n",
    "Черепашка_1 = 400\n",
    "Черепашка_2 = 470\n",
    "Черепашка_3 = 390\n",
    "Черепашка_4 = 130\n",
    "Черепашка_5 = 431\n",
    "Сумма_корма = Черепашка_1+Черепашка_2+Черепашка_3+Черепашка_4+Черепашка_5\n",
    "print(Сумма_корма)"
   ]
  },
  {
   "cell_type": "markdown",
   "metadata": {},
   "source": [
    "А теперь попробуйте поменять значения корма одной из черепашек и посмотрите, что произошло"
   ]
  },
  {
   "cell_type": "markdown",
   "metadata": {},
   "source": [
    "**Самостоятельная задача 2** <br>\n",
    "Написать программу, которая будет складывать два числа и выводить этот результат."
   ]
  },
  {
   "cell_type": "code",
   "execution_count": null,
   "metadata": {},
   "outputs": [],
   "source": [
    "#Самостоятельная задача 2"
   ]
  },
  {
   "cell_type": "markdown",
   "metadata": {},
   "source": [
    "**Задача 2.1** <br>\n",
    "Создадим какую-нибудь переменную со значением 10, после чего вычтем из этой переменной число 2 и посмотрим, чему у нас станет равна переменна"
   ]
  },
  {
   "cell_type": "code",
   "execution_count": null,
   "metadata": {},
   "outputs": [],
   "source": [
    "#Задача 2.1\n",
    "пре = 10\n",
    "пре = пре - 2\n",
    "print(пре)"
   ]
  },
  {
   "cell_type": "markdown",
   "metadata": {},
   "source": [
    "**Самостоятельная задача 2.1** <br>\n",
    "Написать программу, в которой к переменной сначала прибавить какое-то число , потом вывести эту переменную, а затем из этой переменной вычесть какое-то число и снова вывести эту переменную"
   ]
  },
  {
   "cell_type": "code",
   "execution_count": null,
   "metadata": {},
   "outputs": [],
   "source": [
    "#Самостоятельная Задача 2.1"
   ]
  },
  {
   "cell_type": "markdown",
   "metadata": {},
   "source": [
    "**Умножение** <br>\n",
    "Для умножения чисел между собой, в python используется знак *."
   ]
  },
  {
   "cell_type": "code",
   "execution_count": null,
   "metadata": {},
   "outputs": [],
   "source": [
    "#Пример на умножение \n",
    "x = 10\n",
    "y = 5\n",
    "z = 5*10\n",
    "print(z)"
   ]
  },
  {
   "cell_type": "markdown",
   "metadata": {},
   "source": [
    "**Самостоятельная задача 3**<br>Решите математическую задачу с помощью python. У Павла имеется 345 книг. У его брата, книг в 3 раза больше. А у папы, в 6 раз больше книг, чем у брата. Найдите сколько книг суммарно в семье Павла."
   ]
  },
  {
   "cell_type": "code",
   "execution_count": null,
   "metadata": {},
   "outputs": [],
   "source": [
    "#Самостоятельная задача 3"
   ]
  },
  {
   "cell_type": "markdown",
   "metadata": {},
   "source": [
    "**Деление**<br>Для деления используется символ /."
   ]
  },
  {
   "cell_type": "code",
   "execution_count": null,
   "metadata": {},
   "outputs": [],
   "source": [
    "#Пример на деление\n",
    "x = 325\n",
    "y = 5\n",
    "z = x/y\n",
    "print(z)"
   ]
  },
  {
   "cell_type": "markdown",
   "metadata": {},
   "source": [
    "**Самостоятельная задача 4**<br>Решите математическую задачу с помощью python. У Пети было 700 яблок, 58 яблок он отдал Саше, 2 яблок он отдал Матвею, 40 яблок он отдал Мише. Половину оставшихся яблок он отдал родителям. Сколько яблок осталось у Пети? "
   ]
  },
  {
   "cell_type": "code",
   "execution_count": null,
   "metadata": {},
   "outputs": [],
   "source": [
    "#Самостоятельная задача 4"
   ]
  },
  {
   "cell_type": "markdown",
   "metadata": {},
   "source": [
    "**Самостоятельная задача 5**<br>А какой ответ получится, если у Пети было бы 1000 яблок ? "
   ]
  }
 ],
 "metadata": {
  "kernelspec": {
   "display_name": "Python 3",
   "language": "python",
   "name": "python3"
  },
  "language_info": {
   "codemirror_mode": {
    "name": "ipython",
    "version": 3
   },
   "file_extension": ".py",
   "mimetype": "text/x-python",
   "name": "python",
   "nbconvert_exporter": "python",
   "pygments_lexer": "ipython3",
   "version": "3.7.4"
  },
  "pycharm": {
   "stem_cell": {
    "cell_type": "raw",
    "source": [],
    "metadata": {
     "collapsed": false
    }
   }
  }
 },
 "nbformat": 4,
 "nbformat_minor": 2
}