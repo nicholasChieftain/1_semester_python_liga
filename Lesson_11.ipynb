{
 "cells": [
  {
   "cell_type": "markdown",
   "metadata": {},
   "source": [
    "**Занятие 11**<br>Цикл while"
   ]
  },
  {
   "cell_type": "markdown",
   "metadata": {},
   "source": [
    "<img src=\"img/Lesson_11/1.png\" width=\"600\">"
   ]
  },
  {
   "cell_type": "markdown",
   "metadata": {},
   "source": [
    "**Задача 1**<br>Давайте снова поможем Серёже. Напишем программу, которая будет сообщать, когда корм кончается. Т.е. пока количество корма больше какого-то значения, мы будем просто отправлять количество этого корма, как только количество пересечёт критическую отметку, мы отправим предупреждение Серёже. "
   ]
  },
  {
   "cell_type": "code",
   "execution_count": null,
   "metadata": {},
   "outputs": [],
   "source": [
    "#Код к задаче 1\n",
    "корм = 100\n",
    "while(корм>80):\n",
    "    print(корм)\n",
    "    корм = корм - 1\n",
    "print('купить еще корма')"
   ]
  },
  {
   "cell_type": "markdown",
   "metadata": {},
   "source": [
    "**Самостоятельная Задача 1**<br>Напишите программу, используя цикл, которая будет считать от 1 до 100."
   ]
  },
  {
   "cell_type": "code",
   "execution_count": null,
   "metadata": {},
   "outputs": [],
   "source": [
    "#Самостоятельная Задача 1\n"
   ]
  },
  {
   "cell_type": "markdown",
   "metadata": {},
   "source": [
    "**Задача 2**<br>Написать кодовый замок, который просит ввести комбинацию до тех пор, пока пользователь не введет нужную."
   ]
  },
  {
   "cell_type": "markdown",
   "metadata": {},
   "source": [
    "<img src=\"img/Lesson_11/2.png\" width=\"600\">"
   ]
  },
  {
   "cell_type": "code",
   "execution_count": null,
   "metadata": {},
   "outputs": [],
   "source": [
    "#Задача 2\n",
    "while (input('введите комбинацию') != '345'):\n",
    "    print('неверный код')\n",
    "print('код верен')"
   ]
  },
  {
   "cell_type": "markdown",
   "metadata": {},
   "source": [
    "**Самостоятельная задача 2**<br>Написать программу, которая выводит текст ‘Введите слово нужной длинны’, пока вы не введете слово, число букв которого равно четырем. Когда вы водите слово длиной 4 буквы, программа пишет ‘Спасибо’.(Функция для определения длины слова len())"
   ]
  },
  {
   "cell_type": "code",
   "execution_count": null,
   "metadata": {},
   "outputs": [],
   "source": [
    "#Самостоятельная задача 2"
   ]
  },
  {
   "cell_type": "markdown",
   "metadata": {},
   "source": [
    "|Логический оператор|Логический оператор в python|\n",
    "|------|------|\n",
    "| ИЛИ |or|\n",
    "| И |and|\n",
    "| НЕ |no|"
   ]
  },
  {
   "cell_type": "markdown",
   "metadata": {},
   "source": [
    "**Задача 3**<br>Написать программу, которая просит вас ввести число, пока введенное число не будет больше 10 и меньше 15."
   ]
  },
  {
   "cell_type": "markdown",
   "metadata": {},
   "source": [
    "<img src=\"img/Lesson_11/3.png\" width=\"600\">"
   ]
  },
  {
   "cell_type": "code",
   "execution_count": null,
   "metadata": {},
   "outputs": [],
   "source": [
    "#Задача 3\n",
    "x = 0\n",
    "while x < 10 or x > 15:\n",
    "    x = int(input('введите число'))\n",
    "print('вы ввели число от 10 до 15')"
   ]
  },
  {
   "cell_type": "markdown",
   "metadata": {},
   "source": [
    "**Задача 4**<br>Выполнять программу, пока пользователь не введет 3 раза слово ‘готов’"
   ]
  },
  {
   "cell_type": "markdown",
   "metadata": {},
   "source": [
    "<img src=\"img/Lesson_11/while_if.png\" width=\"600\">"
   ]
  },
  {
   "cell_type": "code",
   "execution_count": null,
   "metadata": {},
   "outputs": [],
   "source": [
    "#Код к задаче 4\n",
    "i = 0\n",
    "while i != 3:\n",
    "    x = input('Введите слово')\n",
    "    if x == 'готов':\n",
    "        i = i + 1\n",
    "print('конец')"
   ]
  },
  {
   "cell_type": "markdown",
   "metadata": {},
   "source": [
    "**Самостоятельная задача 3**<br>Написать программу, которая считает сколько раз вы ввели слово ‘сыр’. Если вы вводите слово ‘стоп’, программа выводит сколько раз вы ввели слово ‘сыр’ и останавливается"
   ]
  },
  {
   "cell_type": "code",
   "execution_count": null,
   "metadata": {},
   "outputs": [],
   "source": [
    "#Самостоятельная задача 3"
   ]
  },
  {
   "cell_type": "markdown",
   "metadata": {},
   "source": [
    "**Самостоятельная задача 4**<br>Написать программу, которая изменяет две переменные. Первая переменная сначала равна 79 и каждый раз увеличивается на 1, вторая переменная равна 50 и увеличивается на 2. Выполнять программу, пока одна из переменных не станет больше 100. В конце вывести: какая из переменных быстрее достигла 100."
   ]
  },
  {
   "cell_type": "code",
   "execution_count": null,
   "metadata": {},
   "outputs": [],
   "source": [
    "#Самостоятельная задача 4"
   ]
  },
  {
   "cell_type": "markdown",
   "metadata": {},
   "source": [
    "**While True и break**"
   ]
  },
  {
   "cell_type": "code",
   "execution_count": null,
   "metadata": {},
   "outputs": [],
   "source": [
    "i = 0\n",
    "while True:\n",
    "    print('работаю')\n",
    "    i = i + 1\n",
    "    if i == 3:\n",
    "        break\n",
    "print('Свобода')"
   ]
  },
  {
   "cell_type": "markdown",
   "metadata": {},
   "source": [
    "**Самостоятельная задача 5**<br>Напишите программу, которая спрашивает, что вы любите, пока вы не напишете слово ‘стоп’"
   ]
  },
  {
   "cell_type": "code",
   "execution_count": null,
   "metadata": {},
   "outputs": [],
   "source": [
    "#Самостоятельная задача 5\n",
    "while True:\n",
    "    x = input('что вы любите?')\n",
    "    if x == 'стоп':\n",
    "        break"
   ]
  },
  {
   "cell_type": "code",
   "execution_count": null,
   "metadata": {},
   "outputs": [],
   "source": []
  }
 ],
 "metadata": {
  "kernelspec": {
   "display_name": "Python 3",
   "language": "python",
   "name": "python3"
  },
  "language_info": {
   "codemirror_mode": {
    "name": "ipython",
    "version": 3
   },
   "file_extension": ".py",
   "mimetype": "text/x-python",
   "name": "python",
   "nbconvert_exporter": "python",
   "pygments_lexer": "ipython3",
   "version": "3.7.3"
  },
  "pycharm": {
   "stem_cell": {
    "cell_type": "raw",
    "source": [],
    "metadata": {
     "collapsed": false
    }
   }
  }
 },
 "nbformat": 4,
 "nbformat_minor": 2
}