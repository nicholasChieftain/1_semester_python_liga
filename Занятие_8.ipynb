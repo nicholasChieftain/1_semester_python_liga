{
 "cells": [
  {
   "cell_type": "markdown",
   "metadata": {},
   "source": [
    "Спискок клеток черепах."
   ]
  },
  {
   "cell_type": "code",
   "execution_count": 15,
   "metadata": {},
   "outputs": [
    {
     "name": "stdout",
     "output_type": "stream",
     "text": [
      "Введите номер клетки черепахи от 1 до 5: 2\n",
      "\n",
      "У черепахи 2 желтая клетка.\n"
     ]
    }
   ],
   "source": [
    "Черепахи = [\"красная клетка\", \"желтая клетка\", \"чёрная клетка\", \"синяя клетка\", \"зелёная клетка\"]\n",
    "\n",
    "номер_черепахи = int(input(f'Введите номер клетки черепахи от 1 до {len(Черепахи)}: '))\n",
    "\n",
    "print(f'\\nУ черепахи {номер_черепахи} {Черепахи[номер_черепахи - 1]}.')"
   ]
  },
  {
   "cell_type": "code",
   "execution_count": null,
   "metadata": {},
   "outputs": [],
   "source": []
  },
  {
   "cell_type": "code",
   "execution_count": null,
   "metadata": {},
   "outputs": [],
   "source": []
  }
 ],
 "metadata": {
  "kernelspec": {
   "display_name": "Python 3",
   "language": "python",
   "name": "python3"
  },
  "language_info": {
   "codemirror_mode": {
    "name": "ipython",
    "version": 3
   },
   "file_extension": ".py",
   "mimetype": "text/x-python",
   "name": "python",
   "nbconvert_exporter": "python",
   "pygments_lexer": "ipython3",
   "version": "3.6.5"
  }
 },
 "nbformat": 4,
 "nbformat_minor": 2
}
