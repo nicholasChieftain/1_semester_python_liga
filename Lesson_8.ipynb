{
 "cells": [
  {
   "cell_type": "markdown",
   "metadata": {},
   "source": [
    "**Занятие 8**<br>Функции"
   ]
  },
  {
   "cell_type": "markdown",
   "metadata": {},
   "source": [
    "<img src=\"img/Lesson_8/1.gif\" width=\"600\">"
   ]
  },
  {
   "cell_type": "markdown",
   "metadata": {},
   "source": [
    "**Задача 1**<br>Выведите три раза числа от 1 до 5.\n"
   ]
  },
  {
   "cell_type": "code",
   "execution_count": null,
   "metadata": {},
   "outputs": [],
   "source": [
    "#Код к задаче 1 без использования функций\n",
    "print('1')\n",
    "print('2')\n",
    "print('3')\n",
    "print('4')\n",
    "print('5')\n",
    "print('1')\n",
    "print('2')\n",
    "print('3')\n",
    "print('4')\n",
    "print('5')\n",
    "print('1')\n",
    "print('2')\n",
    "print('3')\n",
    "print('4')\n",
    "print('5')"
   ]
  },
  {
   "cell_type": "markdown",
   "metadata": {},
   "source": [
    "**Описание функции**"
   ]
  },
  {
   "cell_type": "markdown",
   "metadata": {},
   "source": [
    "<img src=\"img/Lesson_8/2.png\" width=\"600\">"
   ]
  },
  {
   "cell_type": "code",
   "execution_count": null,
   "metadata": {},
   "outputs": [],
   "source": [
    "#Описание функции\n",
    "def Подсчитать_от_1_до_5():\n",
    "    print('1')\n",
    "    print('2')\n",
    "    print('3')\n",
    "    print('4')\n",
    "    print('5')"
   ]
  },
  {
   "cell_type": "markdown",
   "metadata": {},
   "source": [
    "**Описание функции с ее вызовом**\n"
   ]
  },
  {
   "cell_type": "markdown",
   "metadata": {},
   "source": [
    "<img src=\"img/Lesson_8/3.png\" width=\"600\">"
   ]
  },
  {
   "cell_type": "code",
   "execution_count": null,
   "metadata": {},
   "outputs": [],
   "source": [
    "#Описание функции с ее вызовом\n",
    "def Подсчитать_от_1_до_5():\n",
    "    print('1')\n",
    "    print('2')\n",
    "    print('3')\n",
    "    print('4')\n",
    "    print('5')\n",
    "Подсчитать_от_1_до_5()"
   ]
  },
  {
   "cell_type": "code",
   "execution_count": null,
   "metadata": {},
   "outputs": [],
   "source": [
    "#Описание функции с ее тройным вызовом\n",
    "def Подсчитать_от_1_до_5():\n",
    "    print('1')\n",
    "    print('2')\n",
    "    print('3')\n",
    "    print('4')\n",
    "    print('5')\n",
    "Подсчитать_от_1_до_5()\n",
    "Подсчитать_от_1_до_5()\n",
    "Подсчитать_от_1_до_5()"
   ]
  },
  {
   "cell_type": "markdown",
   "metadata": {},
   "source": [
    "**Самостоятельная задача 1**<br>Напишите функцию, которая выводит ‘hello world’, и вызовите её 2 раза"
   ]
  },
  {
   "cell_type": "code",
   "execution_count": null,
   "metadata": {},
   "outputs": [],
   "source": [
    "#Самостоятельная задача 1"
   ]
  },
  {
   "cell_type": "markdown",
   "metadata": {},
   "source": [
    "**Функция print может выдавать различный результат**"
   ]
  },
  {
   "cell_type": "markdown",
   "metadata": {},
   "source": [
    "<img src=\"img/Lesson_8/4.png\" width=\"300\">"
   ]
  },
  {
   "cell_type": "markdown",
   "metadata": {},
   "source": [
    "**Задача 2**<br>Написать функцию, которая на вход принимает число, увеличивает его в 5 раз и выводит на экран."
   ]
  },
  {
   "cell_type": "markdown",
   "metadata": {},
   "source": [
    "**Описание функции с аргументом**"
   ]
  },
  {
   "cell_type": "markdown",
   "metadata": {},
   "source": [
    "<img src=\"img/Lesson_8/5.png\" width=\"600\">"
   ]
  },
  {
   "cell_type": "code",
   "execution_count": null,
   "metadata": {},
   "outputs": [],
   "source": [
    "#Описание и вызов функции с аргументом\n",
    "def Увеличить_в_5_раз(x):\n",
    "    x = x*5\n",
    "    print(x)\n",
    "Увеличить_в_5_раз(10)"
   ]
  },
  {
   "cell_type": "markdown",
   "metadata": {},
   "source": [
    "**Самостоятельная задача 2**<br>Напишите функцию, которая на вход принимает текст, все буквы в этом тексте делает заглавными, после чего выводит обработанный текст.(Чтобы сделать все буквы текста заглавными, используется метод upper())\n"
   ]
  },
  {
   "cell_type": "code",
   "execution_count": null,
   "metadata": {},
   "outputs": [],
   "source": [
    "#Самостоятельная задача 2\n"
   ]
  },
  {
   "cell_type": "markdown",
   "metadata": {},
   "source": [
    "**Задача 3**<br>Напишите функцию, которая принимает на вход три аргумента и выводит суммарное число букв\n"
   ]
  },
  {
   "cell_type": "markdown",
   "metadata": {},
   "source": [
    "<img src=\"img/Lesson_8/6.png\" width=\"600\">"
   ]
  },
  {
   "cell_type": "code",
   "execution_count": null,
   "metadata": {},
   "outputs": [],
   "source": [
    "#Задача 3\n",
    "def сумма_букв(x1,x2,x3):\n",
    "    сумма = len(x1)+len(x2)+len(x3)\n",
    "    print(сумма)\n",
    "сумма_букв('книга','машина','гонки')"
   ]
  },
  {
   "cell_type": "markdown",
   "metadata": {},
   "source": [
    "**Самостоятельная задача 3**<br>\n",
    "Напишите функцию, которая принимает на вход три числа и перемножает их между собой.\n"
   ]
  },
  {
   "cell_type": "code",
   "execution_count": null,
   "metadata": {},
   "outputs": [],
   "source": [
    "#Самостоятельная задача 3"
   ]
  },
  {
   "cell_type": "markdown",
   "metadata": {},
   "source": [
    "**Вызов функции без аргумента**"
   ]
  },
  {
   "cell_type": "markdown",
   "metadata": {},
   "source": [
    "<img src=\"img/Lesson_8/7.png\" width=\"600\">"
   ]
  },
  {
   "cell_type": "code",
   "execution_count": null,
   "metadata": {},
   "outputs": [],
   "source": [
    "#вызов функции без аргумента\n",
    "def сумма_букв(x1,x2,x3):\n",
    "    сумма = len(x1)+len(x2)+len(x3)\n",
    "    print(сумма)\n",
    "сумма_букв('книга')"
   ]
  },
  {
   "cell_type": "markdown",
   "metadata": {},
   "source": [
    "**Задача 4**<br>Написать функцию, которая на вход принимает два слова, делает в этих словах буквы заглавными, выводит эти слова одним словосочетанием. Сделаем так, что изначально у нас будут слова ‘вкусный’ и ‘сыр’."
   ]
  },
  {
   "cell_type": "markdown",
   "metadata": {},
   "source": [
    "<img src=\"img/Lesson_8/8.png\" width=\"600\">"
   ]
  },
  {
   "cell_type": "code",
   "execution_count": null,
   "metadata": {},
   "outputs": [],
   "source": [
    "#Задача 4\n",
    "def обр(x = 'вкусный', y = 'сыр'):\n",
    "    s = x.upper()+' '+y.upper()\n",
    "    print(s)\n",
    "обр('мой')"
   ]
  },
  {
   "cell_type": "markdown",
   "metadata": {},
   "source": [
    "**Самостоятельная задача 4**<br>Написать функцию, которая выводит первую букву введенного слова. Изначально в функции лежит слово ‘программирование’."
   ]
  },
  {
   "cell_type": "code",
   "execution_count": null,
   "metadata": {},
   "outputs": [],
   "source": [
    "#Самостоятельная задача 4"
   ]
  },
  {
   "cell_type": "markdown",
   "metadata": {},
   "source": [
    "**Самостоятельная задача 5**<br>Написать функцию, которая на вход принимает 2 аргумента: 1 – число, 2 – слово. Функция выводит слово столько раз, сколько указано в первом аргументе. Если аргументов нет, функция выводит слово ‘сыр ’ 3 раза"
   ]
  },
  {
   "cell_type": "code",
   "execution_count": null,
   "metadata": {},
   "outputs": [],
   "source": [
    "#Самостоятельная задача 5"
   ]
  },
  {
   "cell_type": "markdown",
   "metadata": {},
   "source": [
    "**Задача 5**<br>Напишите функцию, которая умножает число само на себя. После чего вызовите эту функцию для чисел 8 и 10 и сложите результаты. "
   ]
  },
  {
   "cell_type": "markdown",
   "metadata": {},
   "source": [
    "**Оператор return**"
   ]
  },
  {
   "cell_type": "markdown",
   "metadata": {},
   "source": [
    "<img src=\"img/Lesson_8/factory.png\" width=\"600\">"
   ]
  },
  {
   "cell_type": "markdown",
   "metadata": {},
   "source": [
    "**Различные области - различные объекты**"
   ]
  },
  {
   "cell_type": "markdown",
   "metadata": {},
   "source": [
    "<img src=\"img/Lesson_8/factory_imp.png\" width=\"600\">"
   ]
  },
  {
   "cell_type": "markdown",
   "metadata": {},
   "source": [
    "**Проверка**"
   ]
  },
  {
   "cell_type": "markdown",
   "metadata": {},
   "source": [
    "<img src=\"img/Lesson_8/test.png\" width=\"600\">"
   ]
  },
  {
   "cell_type": "code",
   "execution_count": null,
   "metadata": {},
   "outputs": [],
   "source": [
    "#Проверка\n",
    "def proverka():\n",
    "    x = 10\n",
    "    print(x)\n",
    "x = 50\n",
    "proverka()\n",
    "print(x)"
   ]
  },
  {
   "cell_type": "markdown",
   "metadata": {},
   "source": [
    "**Задача 5**<br>Напишите функцию, которая умножает число само на себя. После чего вызовите эту функцию для чисел 8 и 10 и сложите результаты."
   ]
  },
  {
   "cell_type": "code",
   "execution_count": null,
   "metadata": {},
   "outputs": [],
   "source": [
    "#Задача 5\n",
    "def umn(x):\n",
    "    y = x*x\n",
    "    return y\n",
    "x1 = 8\n",
    "x2 = 10\n",
    "y1 = umn(x1)\n",
    "y2 = umn(x2)\n",
    "print(y1+y2)"
   ]
  },
  {
   "cell_type": "markdown",
   "metadata": {},
   "source": [
    "**Самостоятельная задача 6**<br>Создайте функцию, которая делит число на 10, прибавляет к нему число 25 и умножает на 3. Примените эту функцию к числам 10, 50, 30, после чего сложите эти результаты и выведите сумму."
   ]
  },
  {
   "cell_type": "code",
   "execution_count": null,
   "metadata": {},
   "outputs": [],
   "source": [
    "#Самостоятельная задача 6"
   ]
  },
  {
   "cell_type": "markdown",
   "metadata": {},
   "source": [
    "**Самостоятельная задача 7**<br>Напишите функцию, которая добавляет к тексту слово ‘неплохо’, после чего пишет полученный текст наоборот. Дальше примените данную функцию к следующим текстам: ‘сегодня хорошая погода и это  ’, ‘я здоров и это’. Сложите эти два текста, после обработки функции."
   ]
  },
  {
   "cell_type": "code",
   "execution_count": null,
   "metadata": {},
   "outputs": [],
   "source": [
    "#Самостоятельная задача 7"
   ]
  }
 ],
 "metadata": {
  "kernelspec": {
   "display_name": "Python 3",
   "language": "python",
   "name": "python3"
  },
  "language_info": {
   "codemirror_mode": {
    "name": "ipython",
    "version": 3
   },
   "file_extension": ".py",
   "mimetype": "text/x-python",
   "name": "python",
   "nbconvert_exporter": "python",
   "pygments_lexer": "ipython3",
   "version": "3.7.3"
  },
  "pycharm": {
   "stem_cell": {
    "cell_type": "raw",
    "source": [],
    "metadata": {
     "collapsed": false
    }
   }
  }
 },
 "nbformat": 4,
 "nbformat_minor": 2
}