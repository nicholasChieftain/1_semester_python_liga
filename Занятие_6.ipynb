{
 "cells": [
  {
   "cell_type": "markdown",
   "metadata": {},
   "source": [
    "**Занятие 6**\n",
    "\n",
    "**Задача 1**\n",
    "\n",
    "Напишите программу-игру для двоих. Один игрок загадывает число, а другой пытается отгадать. "
   ]
  },
  {
   "cell_type": "code",
   "execution_count": null,
   "metadata": {},
   "outputs": [],
   "source": []
  },
  {
   "cell_type": "markdown",
   "metadata": {},
   "source": [
    "**Задача 2**\n",
    "\n",
    "Напишите программу, которая будет выдавать совет, как одеться. После того как пользователь ввел температуру на улице, программа должна выдать ответ. "
   ]
  },
  {
   "cell_type": "code",
   "execution_count": null,
   "metadata": {},
   "outputs": [],
   "source": []
  },
  {
   "cell_type": "markdown",
   "metadata": {},
   "source": [
    "**Задача 3**\n",
    "\n",
    "Напишите программу-калькулятор для 4 операций: сложение, вычитание, умножение, деление. После ввода пользователем двух чисел и знака пользователю выводится результат операции. "
   ]
  },
  {
   "cell_type": "code",
   "execution_count": null,
   "metadata": {},
   "outputs": [],
   "source": []
  },
  {
   "cell_type": "markdown",
   "metadata": {},
   "source": [
    "**Задача 4**\n",
    "\n",
    "Сделайте проверку типов данных в предыдущей программе. Необходимо оставить возможность вводить только числовой тип. "
   ]
  },
  {
   "cell_type": "code",
   "execution_count": null,
   "metadata": {},
   "outputs": [],
   "source": []
  },
  {
   "cell_type": "markdown",
   "metadata": {},
   "source": [
    "**Задача 5**\n",
    "\n",
    "Напишите программу, которая будет приветствовать пользователя и менять первую букву в имени на заглавную, если его ввели с маленькой. "
   ]
  },
  {
   "cell_type": "code",
   "execution_count": null,
   "metadata": {},
   "outputs": [],
   "source": []
  },
  {
   "cell_type": "markdown",
   "metadata": {},
   "source": [
    "**Задача 6**\n",
    "\n",
    "Напишите программу, которая будет выводить “секретная информация”, если пользователь ввел верное имя и пароль. "
   ]
  },
  {
   "cell_type": "code",
   "execution_count": null,
   "metadata": {},
   "outputs": [],
   "source": []
  },
  {
   "cell_type": "markdown",
   "metadata": {},
   "source": [
    "**Задача 7**\n",
    "\n",
    "Петя часто отправляет письма с компьютера учителю и маме. Напишите программу, которая будет выводить переменную письмо(с текстом письма) + “С уважением, Пётр”, если письмо отправляется учителю и переменную письмо + “Петя”, если письмо отправляется маме.  "
   ]
  },
  {
   "cell_type": "code",
   "execution_count": null,
   "metadata": {},
   "outputs": [],
   "source": []
  },
  {
   "cell_type": "markdown",
   "metadata": {},
   "source": [
    "**Задача 8**\n",
    "\n",
    "У братьев Пети и Саши может от 10 до 25 монет. Пусть, если хотя бы у одного из них окажется больше 19 монет, то выведется сообщение, что можно идти в кино. Количество монет вводит пользователь. "
   ]
  },
  {
   "cell_type": "code",
   "execution_count": null,
   "metadata": {},
   "outputs": [],
   "source": []
  },
  {
   "cell_type": "markdown",
   "metadata": {},
   "source": [
    "**Задача 9**\n",
    "\n",
    "Если у братьев Пети и Саши разное количество конфет, подаренных на новый год, то папа выдает дополнительное количество конфет тому, у кого меньше, чтобы при этом конфет стало поровну. Напишите программу, которая будет проверять у кого конфет больше и выводить сколько конфет нужно выдать тому, у кого их оказалось меньше. "
   ]
  },
  {
   "cell_type": "code",
   "execution_count": null,
   "metadata": {},
   "outputs": [],
   "source": []
  }
 ],
 "metadata": {
  "kernelspec": {
   "display_name": "Python 3",
   "language": "python",
   "name": "python3"
  },
  "language_info": {
   "codemirror_mode": {
    "name": "ipython",
    "version": 3
   },
   "file_extension": ".py",
   "mimetype": "text/x-python",
   "name": "python",
   "nbconvert_exporter": "python",
   "pygments_lexer": "ipython3",
   "version": "3.7.3"
  }
 },
 "nbformat": 4,
 "nbformat_minor": 2
}
