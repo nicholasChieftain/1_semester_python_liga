{
 "cells": [
  {
   "cell_type": "markdown",
   "metadata": {},
   "source": [
    "**Занятие 13**<br>Генераторы. Словари."
   ]
  },
  {
   "cell_type": "markdown",
   "metadata": {},
   "source": [
    "**Задача 1**<br>Создайте список, содержащий числа от 0 до 9, умноженные на 2."
   ]
  },
  {
   "cell_type": "markdown",
   "metadata": {},
   "source": [
    "**Два решения задачи 1**"
   ]
  },
  {
   "cell_type": "markdown",
   "metadata": {},
   "source": [
    "<img src=\"img/Lesson_13/1.png\" width=\"600\">"
   ]
  },
  {
   "cell_type": "code",
   "execution_count": null,
   "metadata": {},
   "outputs": [],
   "source": [
    "#Решение задачи 1 с помощью цикла for\n",
    "a = []\n",
    "for i in range (0,10):\n",
    "    a.append(i*2)\n",
    "print(a) \n"
   ]
  },
  {
   "cell_type": "code",
   "execution_count": null,
   "metadata": {},
   "outputs": [],
   "source": [
    "#Решение задачи 1 с помощью генератора коллекции\n",
    "a = [i*2 for i in range(0,10)]\n",
    "print(a)"
   ]
  },
  {
   "cell_type": "markdown",
   "metadata": {},
   "source": [
    "**Как устроен генератор коллекции**"
   ]
  },
  {
   "cell_type": "markdown",
   "metadata": {},
   "source": [
    "<img src=\"img/Lesson_13/2.png\" width=\"500\">"
   ]
  },
  {
   "attachments": {},
   "cell_type": "markdown",
   "metadata": {},
   "source": [
    "**Самостоятельная задача 1**<br>Создайте список, с помощью генератора коллекций, с элементами 3,6,9,12."
   ]
  },
  {
   "cell_type": "code",
   "execution_count": null,
   "metadata": {},
   "outputs": [],
   "source": [
    "#Самостоятельная задача 1"
   ]
  },
  {
   "cell_type": "markdown",
   "metadata": {},
   "source": [
    "**Остаток от деления**"
   ]
  },
  {
   "cell_type": "markdown",
   "metadata": {},
   "source": [
    "<img src=\"img/Lesson_13/3.png\" width=\"500\">"
   ]
  },
  {
   "cell_type": "code",
   "execution_count": null,
   "metadata": {},
   "outputs": [],
   "source": [
    "#Вычисление в python\n",
    "a = 190 % 27\n",
    "print(a)"
   ]
  },
  {
   "attachments": {},
   "cell_type": "markdown",
   "metadata": {},
   "source": [
    "**Задача 2**<br>Создайте список, содержащий только четные числа в диапазоне от 0 до 100."
   ]
  },
  {
   "cell_type": "markdown",
   "metadata": {},
   "source": [
    "<img src=\"img/Lesson_13/4.png\" width=\"500\">"
   ]
  },
  {
   "cell_type": "code",
   "execution_count": null,
   "metadata": {},
   "outputs": [],
   "source": [
    "#Код к задаче 2\n",
    "a = [i for i in range(0,101) if i % 2 == 0]\n",
    "print(a)"
   ]
  },
  {
   "attachments": {},
   "cell_type": "markdown",
   "metadata": {},
   "source": [
    "**Самостоятельная задача 2**<br>Создайте список с помощью генератора коллекций, содержащий числа от 0 до 400, которые делятся на 3."
   ]
  },
  {
   "cell_type": "code",
   "execution_count": null,
   "metadata": {},
   "outputs": [],
   "source": [
    "#Самостоятельная задача 2"
   ]
  },
  {
   "cell_type": "markdown",
   "metadata": {},
   "source": [
    "**Словари**"
   ]
  },
  {
   "cell_type": "markdown",
   "metadata": {},
   "source": [
    "<img src=\"img/Lesson_13/5.png\" width=\"500\">"
   ]
  },
  {
   "cell_type": "markdown",
   "metadata": {},
   "source": [
    "**Создание словаря**"
   ]
  },
  {
   "cell_type": "markdown",
   "metadata": {},
   "source": [
    "<img src=\"img/Lesson_13/6.png\" width=\"500\">"
   ]
  },
  {
   "cell_type": "code",
   "execution_count": null,
   "metadata": {},
   "outputs": [],
   "source": [
    "#создание словаря\n",
    "a = {}\n",
    "b = {'Никита':185, 'Егор':176}\n",
    "print(a)\n",
    "print(b)"
   ]
  },
  {
   "attachments": {},
   "cell_type": "markdown",
   "metadata": {},
   "source": [
    "**Самостоятельная задача 3**<br>Создайте словарь, в котором ключом будет ваше имя, а значением – ваш возраст"
   ]
  },
  {
   "cell_type": "code",
   "execution_count": null,
   "metadata": {},
   "outputs": [],
   "source": [
    "#Самостоятельная задача 3"
   ]
  },
  {
   "cell_type": "markdown",
   "metadata": {},
   "source": [
    "**Извлечение значений из словаря**"
   ]
  },
  {
   "cell_type": "code",
   "execution_count": null,
   "metadata": {},
   "outputs": [],
   "source": [
    "#Извлечение значений из словаря\n",
    "age = {'Маша' : 20, 'Гоша' : 26 , 'Егор' : 19}\n",
    "x = age['Егор']\n",
    "print(x)"
   ]
  },
  {
   "attachments": {},
   "cell_type": "markdown",
   "metadata": {},
   "source": [
    "**Самостоятельная задача 4**<br>В словаре указана зарплата десятерых людей. Найдите сколько монет суммарно получают ‘Коля’, ‘Паша’ и ‘Ваня’. Словарь:<br>\n",
    "a = {\n",
    "    'Коля' : 24,\n",
    "    'Вася' : 36,\n",
    "    'Паша' : 25,\n",
    "    'Ваня' : 16,\n",
    "    'Егор' : 94,\n",
    "    'Маша' : 106,\n",
    "    'Гоша' : 124,\n",
    "    'Никита' : 18,\n",
    "    'Валера' : 60,\n",
    "    'Кузя' : 36}"
   ]
  },
  {
   "cell_type": "code",
   "execution_count": null,
   "metadata": {},
   "outputs": [],
   "source": [
    "#Самостоятельная задача 4\n",
    "a = {\n",
    "    'Коля' : 24,\n",
    "    'Вася' : 36,\n",
    "    'Паша' : 25,\n",
    "    'Ваня' : 16,\n",
    "    'Егор' : 94,\n",
    "    'Маша' : 106,\n",
    "    'Гоша' : 124,\n",
    "    'Никита' : 18,\n",
    "    'Валера' : 60,\n",
    "    'Кузя' : 36    \n",
    "}"
   ]
  },
  {
   "cell_type": "markdown",
   "metadata": {},
   "source": [
    "**Добавление новой пары в словарь**"
   ]
  },
  {
   "cell_type": "code",
   "execution_count": null,
   "metadata": {},
   "outputs": [],
   "source": [
    "#Добавление новой пары в словарь\n",
    "age = {'Маша' : 10, 'Петя' : 15}\n",
    "age['Миша'] = 21\n",
    "print(age)"
   ]
  },
  {
   "attachments": {},
   "cell_type": "markdown",
   "metadata": {},
   "source": [
    "**Самостоятельная задача 5**<br>Добавьте в данный словарь новую пару: свою фамилию и класс, в котором вы учитесь.\n",
    "Словарь:<br>класс = {\n",
    "    'Иванов' : 3,\n",
    "    'Сугубин': 8,\n",
    "    'Вахтинов' : 1\n",
    "}"
   ]
  },
  {
   "cell_type": "code",
   "execution_count": null,
   "metadata": {},
   "outputs": [],
   "source": [
    "#Самостоятельная задача 5\n",
    "класс = {\n",
    "    'Иванов' : 3,\n",
    "    'Сугубин': 8,\n",
    "    'Вахтинов' : 1\n",
    "}"
   ]
  },
  {
   "cell_type": "markdown",
   "metadata": {},
   "source": [
    "**Что может являться ключами и значениями**"
   ]
  },
  {
   "attachments": {},
   "cell_type": "markdown",
   "metadata": {},
   "source": [
    "|Ключи|Значения|\n",
    "|------|------|\n",
    "| Числа |Числа|\n",
    "| Строки |Строки|\n",
    "| Дробные числа |Дробные числа|\n",
    "| True, False |True, False|\n",
    "| Переменные |Переменные|\n",
    "|  |  Словари, списки, кортежи|"
   ]
  },
  {
   "cell_type": "markdown",
   "metadata": {},
   "source": [
    "**Повторение ключей и значений**"
   ]
  },
  {
   "cell_type": "markdown",
   "metadata": {},
   "source": [
    "<img src=\"img/Lesson_13/7.png\" width=\"500\">"
   ]
  },
  {
   "attachments": {},
   "cell_type": "markdown",
   "metadata": {},
   "source": [
    "**Задача 3**<br>Создайте словарь, в котором будут указаны имена трех учеников, а так же три их последние оценки по математике"
   ]
  },
  {
   "cell_type": "code",
   "execution_count": null,
   "metadata": {},
   "outputs": [],
   "source": [
    "#Код к задаче 3\n",
    "students = {\n",
    "    'Петя' : [4,5,4],\n",
    "    'Егор' : [5,5,5],\n",
    "    'Дима' : [4,4,4]\n",
    "}"
   ]
  },
  {
   "attachments": {},
   "cell_type": "markdown",
   "metadata": {},
   "source": [
    "**Самостоятельная задача 6**<br>Используя словарь из предыдущей задачи, найдите последнюю оценку Пети и Егора."
   ]
  },
  {
   "cell_type": "code",
   "execution_count": null,
   "metadata": {},
   "outputs": [],
   "source": [
    "#Самостоятельная задача 6\n",
    "students = {\n",
    "    'Петя' : [4,5,4],\n",
    "    'Егор' : [5,5,5],\n",
    "    'Дима' : [4,4,4]\n",
    "}"
   ]
  },
  {
   "cell_type": "markdown",
   "metadata": {},
   "source": [
    "**Перебор ключей словаря**"
   ]
  },
  {
   "cell_type": "code",
   "execution_count": null,
   "metadata": {},
   "outputs": [],
   "source": [
    "#Перебор ключей словаря\n",
    "a = {\n",
    "    'Коля' : 4,\n",
    "    'Серёжа' : 8     \n",
    "}\n",
    "for keys in a:\n",
    "    print(keys)\n"
   ]
  },
  {
   "attachments": {},
   "cell_type": "markdown",
   "metadata": {},
   "source": [
    "**Самостоятельная задача 7**<br>Выведите все значения каждого ключа из словаря test.\n",
    "Словарь:<br>\n",
    "test = {\n",
    "    'Егор' : 'купит машину',\n",
    "    'Никита' : 'съест банан',\n",
    "    'Паша' : 'поедет в Москву'}"
   ]
  },
  {
   "cell_type": "code",
   "execution_count": null,
   "metadata": {},
   "outputs": [],
   "source": [
    "#Самостоятельная задача 7\n",
    "test = {\n",
    "    'Егор' : 'купит машину',\n",
    "    'Никита' : 'съест банан',\n",
    "    'Паша' : 'поедет в Москву'  \n",
    "}"
   ]
  },
  {
   "cell_type": "markdown",
   "metadata": {},
   "source": [
    "**Функция sum()**"
   ]
  },
  {
   "cell_type": "markdown",
   "metadata": {},
   "source": [
    "<img src=\"img/Lesson_13/sum.png\" width=\"500\">"
   ]
  },
  {
   "cell_type": "code",
   "execution_count": null,
   "metadata": {},
   "outputs": [],
   "source": [
    "#Функция sum()\n",
    "a = [1,3,5]\n",
    "x = sum(a)\n",
    "print(x)"
   ]
  },
  {
   "attachments": {},
   "cell_type": "markdown",
   "metadata": {},
   "source": [
    "**Самостоятельная задача 8**<br>Найдите сумму всех нечётных чисел, находящихся в диапазоне от 0 до 334."
   ]
  },
  {
   "cell_type": "code",
   "execution_count": null,
   "metadata": {},
   "outputs": [],
   "source": [
    "#Самостоятельная задача 8"
   ]
  },
  {
   "attachments": {},
   "cell_type": "markdown",
   "metadata": {},
   "source": [
    "**Самостоятельная задача 9**<br>В словаре даны имена 3 спортсменов, а также очки этих спортсменов за 4 вида соревнования. Напишите программу, которая подсчитает количество очков каждого спортсмена.  \n",
    "Словарь:<br>a = {\n",
    "    'Егор' : [400,300, 54, 176],\n",
    "    'Дима' : [349,225,42,201],\n",
    "    'Гоша' : [321,201,58,180] }"
   ]
  },
  {
   "cell_type": "code",
   "execution_count": null,
   "metadata": {},
   "outputs": [],
   "source": [
    "#Самостоятельная задача 9\n",
    "a = {\n",
    "    'Егор' : [400,300, 54, 176],\n",
    "    'Дима' : [349,225,42,201],\n",
    "    'Гоша' : [321,201,58,180]   \n",
    "}"
   ]
  }
 ],
 "metadata": {
  "kernelspec": {
   "display_name": "Python 3",
   "language": "python",
   "name": "python3"
  },
  "language_info": {
   "codemirror_mode": {
    "name": "ipython",
    "version": 3
   },
   "file_extension": ".py",
   "mimetype": "text/x-python",
   "name": "python",
   "nbconvert_exporter": "python",
   "pygments_lexer": "ipython3",
   "version": "3.7.4"
  },
  "pycharm": {
   "stem_cell": {
    "cell_type": "raw",
    "source": [],
    "metadata": {
     "collapsed": false
    }
   }
  }
 },
 "nbformat": 4,
 "nbformat_minor": 2
}