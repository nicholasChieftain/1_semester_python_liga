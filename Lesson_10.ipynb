{
 "cells": [
  {
   "cell_type": "markdown",
   "metadata": {},
   "source": [
    "**Задача 1**\n",
    "\n",
    "Напишите функцию, которая будет сравнивать два числа и возвращать наибольшее. "
   ]
  },
  {
   "cell_type": "code",
   "execution_count": null,
   "metadata": {},
   "outputs": [],
   "source": []
  },
  {
   "cell_type": "markdown",
   "metadata": {},
   "source": [
    "**Задача 2**\n",
    "\n",
    "Напишите функцию, которая будет складывать строку с числом. Можно воспользоваться функцией str()."
   ]
  },
  {
   "cell_type": "code",
   "execution_count": null,
   "metadata": {},
   "outputs": [],
   "source": []
  },
  {
   "cell_type": "markdown",
   "metadata": {},
   "source": [
    "**Задача 3**\n",
    "\n",
    "Напишите программу, которая будет фильтровать введённые пользователем данные. Если в вводимых данных есть числа, то данные добавляются в один список. Если чисел нет, то данные добавляются в другой список. (Проверку чисел можно осуществить проверкой через сравнение с помощью оператора not in и кортежа с набором чисел, преобразованных в строку)"
   ]
  },
  {
   "cell_type": "code",
   "execution_count": null,
   "metadata": {},
   "outputs": [],
   "source": []
  },
  {
   "cell_type": "markdown",
   "metadata": {},
   "source": [
    "**Задача 4**\n",
    "\n",
    "Напишите функцию, которая будет считать периметр фигуры. Пользователь вводит имя фигуры, ее параметры, а программа выдает ответ. "
   ]
  },
  {
   "cell_type": "code",
   "execution_count": null,
   "metadata": {},
   "outputs": [],
   "source": []
  },
  {
   "cell_type": "markdown",
   "metadata": {},
   "source": [
    "**Задача 5**\n",
    "\n",
    "Переделайте задачу 4 так, чтобы данные о фигуре в функцию вводились через список. \n",
    "Задача 6\n"
   ]
  },
  {
   "cell_type": "code",
   "execution_count": null,
   "metadata": {},
   "outputs": [],
   "source": []
  },
  {
   "cell_type": "markdown",
   "metadata": {},
   "source": [
    "**Задача 6**\n",
    "\n",
    "Напишите программу, которая будет считывать данные от пользователя и сохранять их список. Если список вдруг окажется кортежем, то нужно чтобы пользователю вывелось предупреждение, что данные не сохранились. "
   ]
  },
  {
   "cell_type": "code",
   "execution_count": null,
   "metadata": {},
   "outputs": [],
   "source": []
  },
  {
   "cell_type": "markdown",
   "metadata": {},
   "source": [
    "**Задача 7**\n",
    "\n",
    "Напишите программу, которая будет искать значение в списке, введенное пользователем. Если значение есть, то пользователю пишется это значения. Если значения нет, то пользователю пишется, что такого значения нет. "
   ]
  },
  {
   "cell_type": "code",
   "execution_count": null,
   "metadata": {},
   "outputs": [],
   "source": []
  }
 ],
 "metadata": {
  "kernelspec": {
   "display_name": "Python 3",
   "language": "python",
   "name": "python3"
  },
  "language_info": {
   "codemirror_mode": {
    "name": "ipython",
    "version": 3
   },
   "file_extension": ".py",
   "mimetype": "text/x-python",
   "name": "python",
   "nbconvert_exporter": "python",
   "pygments_lexer": "ipython3",
   "version": "3.7.3"
  }
 },
 "nbformat": 4,
 "nbformat_minor": 2
}
