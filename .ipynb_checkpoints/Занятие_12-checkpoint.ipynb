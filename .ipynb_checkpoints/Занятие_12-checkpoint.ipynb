{
 "cells": [
  {
   "cell_type": "markdown",
   "metadata": {},
   "source": [
    "# Занятие 12"
   ]
  },
  {
   "cell_type": "markdown",
   "metadata": {},
   "source": [
    "**Задача 1**\n",
    "\n",
    "Напишем программу, которая будет насыпать корм до нужного нам количества. Т.е. создадим переменную с кормом, которая будет равна 0, и будем увеличивать эту переменную в цикле до какого-то значения, после цикла выведем значение этой переменной."
   ]
  },
  {
   "cell_type": "code",
   "execution_count": null,
   "metadata": {},
   "outputs": [],
   "source": [
    "корм = 0\n",
    "for i in range(0, 100):\n",
    "    корм += 1\n",
    "    print(i)\n",
    "print(f'Количества корма: {корм}')"
   ]
  },
  {
   "cell_type": "markdown",
   "metadata": {},
   "source": [
    "**Фукнция range**"
   ]
  },
  {
   "cell_type": "markdown",
   "metadata": {},
   "source": [
    "Позволяет генерировать объекты, которые содержат диапазоны чисел. "
   ]
  },
  {
   "cell_type": "code",
   "execution_count": null,
   "metadata": {},
   "outputs": [],
   "source": [
    "диапазон = range(0, 10)\n",
    "print(диапозон)#Объект с диапазоном чисел от 0 до 9"
   ]
  },
  {
   "cell_type": "markdown",
   "metadata": {},
   "source": [
    "Можно преобразовать данный объект в список. "
   ]
  },
  {
   "cell_type": "code",
   "execution_count": null,
   "metadata": {},
   "outputs": [],
   "source": [
    "print(list(диапазон))"
   ]
  },
  {
   "cell_type": "markdown",
   "metadata": {},
   "source": [
    "Можно задать шаг изменения чисел в диапазоне. \n"
   ]
  },
  {
   "cell_type": "code",
   "execution_count": null,
   "metadata": {},
   "outputs": [],
   "source": [
    "диапазон = range(-10, 10, 2)\n",
    "print(list(диапазон))"
   ]
  },
  {
   "cell_type": "markdown",
   "metadata": {},
   "source": [
    "**Задача 2**\n",
    "\n",
    "Сережа решил сделать из списка с домашинми заданиями только каждое третье ДЗ. Нужно написать программу, которая будет сообщать о ДЗ, которое будет делать Сережа. "
   ]
  },
  {
   "cell_type": "code",
   "execution_count": null,
   "metadata": {},
   "outputs": [],
   "source": [
    "задания = ['математика', 'русский язык', 'физкультура', 'литература', 'физика', 'музыка']\n",
    "\n",
    "номер_задания = 0\n",
    "for задание in задания:\n",
    "    номер_задания += 1\n",
    "    if номер_задания % 3 == 0:\n",
    "        print(f'{задание} - сделаем:)')\n",
    "        continue\n",
    "    print(f'{задание} - не будем делать:)')"
   ]
  },
  {
   "cell_type": "markdown",
   "metadata": {},
   "source": [
    "**Самостоятельная задача 1**\n",
    "\n",
    "Напишите свою функцию, которая будет принимать в качестве аргумента имя и затем будет выводить приветствие с введенным именем. "
   ]
  },
  {
   "cell_type": "code",
   "execution_count": null,
   "metadata": {},
   "outputs": [],
   "source": []
  },
  {
   "cell_type": "markdown",
   "metadata": {},
   "source": [
    "**Самостоятельная задача 2**\n",
    "\n",
    "Имеется список с именами. Напишите программу, которая поприветствует каждого по имени из данного списка. Необходимо воспользоваться циклом for и функцией, которую написали в предыдущей задаче. "
   ]
  },
  {
   "cell_type": "code",
   "execution_count": 1,
   "metadata": {},
   "outputs": [],
   "source": [
    "имена = ['Коля', 'Сережа', 'Никита', 'Миша', 'Олег', 'Даша', 'Ксюша', 'Оля', 'Катя', 'Юля']"
   ]
  },
  {
   "cell_type": "markdown",
   "metadata": {},
   "source": [
    "**Самостоятельная задача 3**\n",
    "\n",
    "Напишите программу, которая создаст список с таблицей умножения. Необходимо воспользоваться методом append у списков, циклом for и генератором диапазонов. "
   ]
  },
  {
   "cell_type": "code",
   "execution_count": null,
   "metadata": {},
   "outputs": [],
   "source": []
  },
  {
   "attachments": {},
   "cell_type": "markdown",
   "metadata": {},
   "source": [
    "**Самостоятельная задача 4**\n",
    "\n",
    "Напишите программу, которая будет выводить в столбик умножения для определённого числа из списка с таблицей умножения, сгенерированного в предыдущей программе.  "
   ]
  },
  {
   "cell_type": "code",
   "execution_count": null,
   "metadata": {},
   "outputs": [],
   "source": []
  },
  {
   "attachments": {},
   "cell_type": "markdown",
   "metadata": {},
   "source": [
    "**Самостоятельная задача 5**\n",
    "\n",
    "Напишите программу, которая из списка с именами из второй программы скопирует каждое 2 имя в другой список и выведет его на экран. "
   ]
  },
  {
   "cell_type": "code",
   "execution_count": null,
   "metadata": {},
   "outputs": [],
   "source": []
  }
 ],
 "metadata": {
  "kernelspec": {
   "display_name": "Python 3",
   "language": "python",
   "name": "python3"
  },
  "language_info": {
   "codemirror_mode": {
    "name": "ipython",
    "version": 3
   },
   "file_extension": ".py",
   "mimetype": "text/x-python",
   "name": "python",
   "nbconvert_exporter": "python",
   "pygments_lexer": "ipython3",
   "version": "3.7.3"
  }
 },
 "nbformat": 4,
 "nbformat_minor": 2
}
