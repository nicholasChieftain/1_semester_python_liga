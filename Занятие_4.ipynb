{
 "cells": [
  {
   "cell_type": "markdown",
   "metadata": {},
   "source": [
    "**Задача 1**\n",
    "\n",
    "Выведите имя логического типа данных в Python 3. Для вывода необходимо воспользоваться функцией **_print()_**, для определения имени типа данных необходимо воспользоваться функцией **_type()_**."
   ]
  },
  {
   "cell_type": "code",
   "execution_count": null,
   "metadata": {},
   "outputs": [],
   "source": [
    "#Место для решения задачи\n",
    "Истина = True\n",
    "Ложь = False\n",
    "#Выведите имя лоигческого типа данных\n"
   ]
  },
  {
   "cell_type": "markdown",
   "metadata": {},
   "source": [
    "**Самостоятельная задача 2**\n",
    "\n",
    "Напишите программу, которая будет выдавать результат сравнения вашего возраста с числом 6. Знаки сравнения используемые в Python представлены ниже в таблице."
   ]
  },
  {
   "cell_type": "markdown",
   "metadata": {},
   "source": [
    "|Знак сравнения|Значение|\n",
    "|------|------|\n",
    "| != |Не равно|\n",
    "| == |Равно|\n",
    "| > |Больше|\n",
    "| < |Меньше|\n",
    "| >= |Больше или равно|\n",
    "| <= |Меньше или равно|"
   ]
  },
  {
   "cell_type": "code",
   "execution_count": null,
   "metadata": {},
   "outputs": [],
   "source": [
    "#Самостоятельная задача 2\n"
   ]
  },
  {
   "cell_type": "markdown",
   "metadata": {},
   "source": [
    "<img src=\"img/Занятие_4/присваивание!=равенстов.png\" width=\"400\">"
   ]
  },
  {
   "cell_type": "code",
   "execution_count": null,
   "metadata": {},
   "outputs": [],
   "source": [
    "#Про присваивание и проверку равенства\n",
    "\"равно\" != \"равно\"*2"
   ]
  },
  {
   "cell_type": "markdown",
   "metadata": {},
   "source": [
    "**Самостоятельная задача 3**\n",
    "\n",
    "В программе сохранен пароль в переменной, пусть пользователь попытается ввести пароль и ему будет выводится результат сравнения введенного пароля с оригиналом."
   ]
  },
  {
   "cell_type": "code",
   "execution_count": 3,
   "metadata": {},
   "outputs": [
    {
     "name": "stdout",
     "output_type": "stream",
     "text": [
      "Введите пароль23\n",
      "False\n"
     ]
    }
   ],
   "source": [
    "#Самостоятельная задача 3\n",
    "пароль = \"сложныйпароль\"\n",
    "#Допишите программу для проверки пароля\n"
   ]
  },
  {
   "cell_type": "markdown",
   "metadata": {},
   "source": [
    "**Логические операции**"
   ]
  },
  {
   "cell_type": "markdown",
   "metadata": {},
   "source": [
    "|Логическая операция|Как обозначается в **_Python_**|\n",
    "|------|------|\n",
    "| И |and|\n",
    "| Или |or|\n",
    "| Не |not|"
   ]
  },
  {
   "cell_type": "markdown",
   "metadata": {},
   "source": [
    "**Задача 4**\n",
    "\n",
    "Доработайте предыдущую программу и помимо пароля пусть совместно идет проверка возраста пользователя.\n",
    "\n"
   ]
  },
  {
   "cell_type": "code",
   "execution_count": null,
   "metadata": {},
   "outputs": [],
   "source": [
    "#Место для решения задачи"
   ]
  },
  {
   "cell_type": "markdown",
   "metadata": {},
   "source": [
    "**Обработка условий**\n",
    "\n",
    "**Задача 5**"
   ]
  },
  {
   "cell_type": "code",
   "execution_count": null,
   "metadata": {},
   "outputs": [],
   "source": [
    "#Пример программы с if\n",
    "возраст = input(\"Введите свой возраст: \")\n",
    "if int(возраст) > 6:\n",
    "    print(\"Кажется вы ходите в школу:)\")"
   ]
  },
  {
   "cell_type": "markdown",
   "metadata": {},
   "source": [
    "**Самостоятельная задача  6**\n",
    "\n",
    "Напишите программу, которая просит ввести вас два числа. Если первое число больше второго, тогда вывести сообщение об этом. Если второе число больше первого, ничего не делать."
   ]
  },
  {
   "cell_type": "code",
   "execution_count": 2,
   "metadata": {},
   "outputs": [],
   "source": [
    "#Самостоятельная задача 6"
   ]
  },
  {
   "cell_type": "markdown",
   "metadata": {},
   "source": [
    "**Самостоятельная задача  7**\n",
    "\n",
    "Доработайте программу 5. Необходимо сделать так, чтобы выводилась информация и в том случае, если возраст окажется меньше 6. "
   ]
  },
  {
   "cell_type": "code",
   "execution_count": 3,
   "metadata": {},
   "outputs": [],
   "source": [
    "#Самостоятельная задача 7"
   ]
  },
  {
   "cell_type": "markdown",
   "metadata": {},
   "source": [
    "**Самостоятельная задача  8**\n",
    "\n",
    "Доработайте программу 5. Необходимо сделать так, чтобы выводилась информация и в том случае, если возраст окажется меньше 6. "
   ]
  },
  {
   "cell_type": "code",
   "execution_count": null,
   "metadata": {},
   "outputs": [],
   "source": [
    "#Самостоятельная задача 8"
   ]
  },
  {
   "cell_type": "markdown",
   "metadata": {},
   "source": [
    "**Самостоятельная задача  9**\n",
    "\n",
    "Напишите программу, которая просит ввести вас два числа. Если оба числа больше 6, тогда вывести сообщение об этом. "
   ]
  },
  {
   "cell_type": "code",
   "execution_count": 1,
   "metadata": {},
   "outputs": [],
   "source": [
    "#Самостоятельная задача 9"
   ]
  }
 ],
 "metadata": {
  "kernelspec": {
   "display_name": "Python 3",
   "language": "python",
   "name": "python3"
  },
  "language_info": {
   "codemirror_mode": {
    "name": "ipython",
    "version": 3
   },
   "file_extension": ".py",
   "mimetype": "text/x-python",
   "name": "python",
   "nbconvert_exporter": "python",
   "pygments_lexer": "ipython3",
   "version": "3.7.3"
  }
 },
 "nbformat": 4,
 "nbformat_minor": 2
}
