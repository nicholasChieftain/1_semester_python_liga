{
 "cells": [
  {
   "cell_type": "markdown",
   "metadata": {},
   "source": [
    "**Задача 1**<br>\n",
    "Переменная, а = 10, переменная b = 18. Найдите сумму этих переменных и выведите ее на экран."
   ]
  },
  {
   "cell_type": "code",
   "execution_count": null,
   "metadata": {},
   "outputs": [],
   "source": [
    "#Задача 1"
   ]
  },
  {
   "cell_type": "markdown",
   "metadata": {},
   "source": [
    "**Задача 2**<br>\n",
    "У Коли, Саши, Маши и Арсения в сумме 179 рублей. Известно, что у Саши 39 рублей, у Маши 43, у Арсения 49. Выведите на экран сумму денег Коли и Арсения."
   ]
  },
  {
   "cell_type": "code",
   "execution_count": null,
   "metadata": {},
   "outputs": [],
   "source": [
    "#Задача 2"
   ]
  },
  {
   "cell_type": "markdown",
   "metadata": {},
   "source": [
    "**Задача 3**<br>\n",
    "У Павла было 970 рублей. Сначала он купил новые шнурки за 237 рублей. Потом он заработал 134 рубля. После купил себя кубик рубик за 543 рубля. Выведите сколько денег осталось у Павла."
   ]
  },
  {
   "cell_type": "code",
   "execution_count": null,
   "metadata": {},
   "outputs": [],
   "source": [
    "#Задача 3"
   ]
  },
  {
   "cell_type": "markdown",
   "metadata": {},
   "source": [
    "**Задача 4**<br>Напишите программу, которая сначала просит ввести первое число, потом просит ввести вас второе число, после чего выводит сумму этих двух чисел"
   ]
  },
  {
   "cell_type": "code",
   "execution_count": null,
   "metadata": {},
   "outputs": [],
   "source": [
    "#Задача 4"
   ]
  },
  {
   "cell_type": "markdown",
   "metadata": {},
   "source": [
    "**Задача 5**<br>Саша постоянно забывает: в каких квартирах живут его друзья. Напишите программу, с помощью которой Саша сможет определять: в каких квартирах живут его друзья. Т.е. программа будет просить ввести Имя друга, и в зависимости от этого выдавать номер квартиры"
   ]
  },
  {
   "cell_type": "code",
   "execution_count": null,
   "metadata": {},
   "outputs": [],
   "source": [
    "#Задача 5"
   ]
  },
  {
   "cell_type": "markdown",
   "metadata": {},
   "source": [
    "**Задача 6**<br>Есть математическое выражение : (a + b)/75. a и b это переменные, которые вводит пользователь с клавиатуры. Выведите результат математического выражения с введенными данными. Т.е. программа просит ввести a, потом просит ввести b, после чего выводит результат выражения (a+b)/75."
   ]
  },
  {
   "cell_type": "code",
   "execution_count": null,
   "metadata": {},
   "outputs": [],
   "source": [
    "#Задача 6"
   ]
  },
  {
   "cell_type": "markdown",
   "metadata": {},
   "source": [
    "**Задача 7**<br>\n",
    "Напишите программу, которая сначала просит ввести вас ваше имя, потом вашу фамилию, а после выводит сообщение : “Привет, <Ваше имя и фамилия, которые вы ввели>”.\n"
   ]
  },
  {
   "cell_type": "code",
   "execution_count": null,
   "metadata": {},
   "outputs": [],
   "source": [
    "#Задача 7"
   ]
  },
  {
   "cell_type": "markdown",
   "metadata": {},
   "source": [
    "**Задача 8**<br>\n",
    "У Коли, Саши, Маши и Арсения в сумме 154 рубля. Известно, что у Саши 39 рублей и 46 копеек, у Маши 43 рубля и 7 копеек, у Арсения 49 рубля и 3 копейки. Найдите сколько денег у Коли. (Вспомните про числа с точкой !)\n"
   ]
  },
  {
   "cell_type": "code",
   "execution_count": null,
   "metadata": {},
   "outputs": [],
   "source": [
    "#Задача 8"
   ]
  },
  {
   "cell_type": "markdown",
   "metadata": {},
   "source": [
    "**Задача 9**<br>\n",
    "Напишите программу, которая просит ввести вас число, после чего выводит три числа :<br>\n",
    "1.Введенное число, умноженное на 5<br>2. Введенное число, разделенное на 5<br>3. Число, на 26 больше введенного \n"
   ]
  },
  {
   "cell_type": "code",
   "execution_count": null,
   "metadata": {},
   "outputs": [],
   "source": [
    "#Задача 9"
   ]
  },
  {
   "cell_type": "markdown",
   "metadata": {},
   "source": [
    "**Задача 10**<br>\n",
    "Напишите программу, которая просит вас ввести слово, потом просит вас ввести число. Введенное число показывает, сколько раз компьютер должен вывести слово.\n"
   ]
  },
  {
   "cell_type": "code",
   "execution_count": null,
   "metadata": {},
   "outputs": [],
   "source": [
    "#Задача 10"
   ]
  },
  {
   "cell_type": "markdown",
   "metadata": {},
   "source": [
    "**Задача 11**<br>Напишите программу, которая преобразует введенное число с плавающей точкой в целое"
   ]
  },
  {
   "cell_type": "code",
   "execution_count": null,
   "metadata": {},
   "outputs": [],
   "source": [
    "#Задача 11"
   ]
  }
 ],
 "metadata": {
  "kernelspec": {
   "display_name": "Python 3",
   "language": "python",
   "name": "python3"
  },
  "language_info": {
   "codemirror_mode": {
    "name": "ipython",
    "version": 3
   },
   "file_extension": ".py",
   "mimetype": "text/x-python",
   "name": "python",
   "nbconvert_exporter": "python",
   "pygments_lexer": "ipython3",
   "version": "3.6.5"
  }
 },
 "nbformat": 4,
 "nbformat_minor": 2
}
